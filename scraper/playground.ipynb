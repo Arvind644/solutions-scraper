{
 "cells": [
  {
   "cell_type": "code",
   "execution_count": 11,
   "metadata": {},
   "outputs": [],
   "source": [
    "class Issue:\n",
    "    def __init__(self, title, description, url, featured_answer):\n",
    "        self.title = title\n",
    "        self.description = description\n",
    "        self.url = url\n",
    "        self.featured_answer = featured_answer\n",
    "\n",
    "issues_batch = []"
   ]
  },
  {
   "cell_type": "code",
   "execution_count": 16,
   "metadata": {},
   "outputs": [
    {
     "name": "stdout",
     "output_type": "stream",
     "text": [
      "Processing mojombo/god\n",
      "Processing https://api.github.com/repos/mojombo/god/issues\n",
      "Processing https://api.github.com/repositories/28/issues?page=2\n"
     ]
    }
   ],
   "source": [
    "# get repos\n",
    "# iterate through repos' issues(using next/prev link headers)\n",
    "# iterata through issues' comments and get featured comment by properties : [\"author_association\"]\n",
    "# create list of issues objects\n",
    "# save to parquet\n",
    "# vecotrize issues and save to vector database\n",
    "\n",
    "import requests\n",
    "import dotenv\n",
    "import os\n",
    "\n",
    "dotenv.load_dotenv()\n",
    "baseurl = \"https://api.github.com/\"\n",
    "token = os.getenv(\"GH_PAT\")\n",
    "api_version = \"2022-11-28\"\n",
    "headers = {\n",
    "    \"Accept\": \"application/vnd.github.v3+json\",\n",
    "    \"Authorization\": f\"Bearer {token}\",\n",
    "    \"X-GitHub-Api-Version\": api_version\n",
    "}\n",
    "\n",
    "api = \"repositories\"\n",
    "repos_link = f\"{baseurl}{api}\"\n",
    "while repos_link:\n",
    "    resp = requests.get(repos_link, headers=headers)\n",
    "    public_repos = resp.json()\n",
    "    link_header = resp.headers.get(\"Link\")\n",
    "    if \"rel=\\\"next\\\"\" in link_header: \n",
    "        repos_link = link_header.split(\",\")[0].split(\";\")[0].replace(\"<\",'').replace(\">\",'')\n",
    "    else:\n",
    "        repos_link = None\n",
    "    #testing \n",
    "    public_repos = public_repos[3:4]\n",
    "    #-------\n",
    "    for repo in public_repos:\n",
    "        print(f\"Processing {repo['full_name']}\")\n",
    "        issues_link = f\"{baseurl}repos/{repo['full_name']}/issues\"\n",
    "        while issues_link:\n",
    "            print(f\"Processing {issues_link}\")\n",
    "            resp = requests.get(issues_link, headers=headers)\n",
    "            repo_issues = resp.json()\n",
    "            link_header = resp.headers.get(\"Link\")\n",
    "            try:\n",
    "                issues_links = link_header.split(\",\")\n",
    "                issues_link = next((link.split(';')[0].replace(\"<\",'').replace(\">\",'') for link in issues_links if \"rel=\\\"next\\\"\" in link), None)\n",
    "            except:\n",
    "                issues_link = None\n",
    "            for issue in repo_issues:\n",
    "                issue_comments = requests.get(f\"{baseurl}repos/{repo['full_name']}/issues/{issue['number']}/comments?sort=created&direction=asc\", headers=headers).json()\n",
    "                featured_comment = None\n",
    "                # should we just get one answer or contact multiple\n",
    "                for comment in issue_comments:\n",
    "                    if (comment[\"author_association\"] == \"OWNER\"):\n",
    "                        featured_comment = comment[\"body\"]\n",
    "                        break\n",
    "                    elif (comment[\"author_association\"] == \"COLLABORATOR\"):\n",
    "                        featured_comment = comment[\"body\"]\n",
    "                        break\n",
    "                    elif (comment[\"author_association\"] == \"MEMBER\"):\n",
    "                        featured_comment = comment[\"body\"]\n",
    "                        break\n",
    "                    elif (comment[\"author_association\"] == \"CONTRIBUTOR\"):\n",
    "                        featured_comment = comment[\"body\"]\n",
    "                        break\n",
    "                if featured_comment and issue[\"body\"]:\n",
    "                    issues_batch.append(Issue(issue[\"title\"], issue[\"body\"], issue[\"url\"], featured_comment))\n",
    "\n",
    "import pandas as pd\n",
    "df = pd.DataFrame([vars(issue) for issue in issues_batch], columns=[\"title\", \"description\", \"url\", \"featured_answer\"], dtype=object)\n",
    "print(df.head())\n",
    "df.to_parquet(\"./output/issues.parquet\")\n"
   ]
  },
  {
   "cell_type": "code",
   "execution_count": null,
   "metadata": {},
   "outputs": [],
   "source": [
    "# search for poststs in stackoverflow\n",
    "# get featured answer by properties : [\"is_accepted\", \"score\"]\n",
    "# create list of issues objects\n",
    "# save all to parquet\n",
    "# vecotrize posts with is_answered: true and save to vector database"
   ]
  }
 ],
 "metadata": {
  "kernelspec": {
   "display_name": "Python 3",
   "language": "python",
   "name": "python3"
  },
  "language_info": {
   "codemirror_mode": {
    "name": "ipython",
    "version": 3
   },
   "file_extension": ".py",
   "mimetype": "text/x-python",
   "name": "python",
   "nbconvert_exporter": "python",
   "pygments_lexer": "ipython3",
   "version": "3.9.1"
  }
 },
 "nbformat": 4,
 "nbformat_minor": 2
}
