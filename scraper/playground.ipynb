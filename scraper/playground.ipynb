{
 "cells": [
  {
   "cell_type": "code",
   "execution_count": null,
   "metadata": {},
   "outputs": [],
   "source": [
    "class Issue:\n",
    "    def __init__(self, title, description, url, featured_answer):\n",
    "        self.title = title\n",
    "        self.description = description\n",
    "        self.url = url\n",
    "        self.featured_answer = featured_answer\n",
    "\n",
    "issues_batch = []"
   ]
  },
  {
   "cell_type": "code",
   "execution_count": 3,
   "metadata": {},
   "outputs": [
    {
     "name": "stdout",
     "output_type": "stream",
     "text": [
      "{'message': 'Bad credentials', 'documentation_url': 'https://docs.github.com/rest'}\n"
     ]
    }
   ],
   "source": [
    "# get repos\n",
    "# iterate through repos' issues\n",
    "# iterata through issues' comments and get featured comment by properties : [\"author_association\"]\n",
    "# create list of issues objects\n",
    "# save to parquet\n",
    "# vecotrize issues and save to vector database\n",
    "\n",
    "import requests\n",
    "\n",
    "baseurl = \"https://api.github.com/\"\n",
    "token = \"\"\n",
    "api_version = \"2022-11-28\"\n",
    "headers = {\n",
    "    \"Accept\": \"application/vnd.github.v3+json\",\n",
    "    \"Authorization\": f\"Bearer {token}\",\n",
    "    \"X-GitHub-Api-Version\": api_version\n",
    "}\n",
    "\n",
    "api = \"repositories\"\n",
    "public_repos = requests.get(f\"{baseurl}{api}\", headers=headers).json()\n",
    "for repo in public_repos:\n",
    "    repo_issues = requests.get(f\"{baseurl}repos/{repo['full_name']}/issues\", headers=headers).json()\n",
    "    for issue in repo_issues:\n",
    "        issue_comments = requests.get(f\"{baseurl}repos/{repo['full_name']}/issues/{issue['number']}/comments?sort=created&direction=asc\", headers=headers).json()\n",
    "        featured_comment = None\n",
    "        # should we just get one answer or contact multiple\n",
    "        for comment in issue_comments:\n",
    "            if (comment[\"author_association\"] == \"OWNER\"):\n",
    "                featured_comment = comment\n",
    "                break\n",
    "            elif (comment[\"author_association\"] == \"COLLABORATOR\"):\n",
    "                featured_comment = comment\n",
    "                break\n",
    "            elif (comment[\"author_association\"] == \"MEMBER\"):\n",
    "                featured_comment = comment\n",
    "                break\n",
    "            elif (comment[\"author_association\"] == \"CONTRIBUTOR\"):\n",
    "                featured_comment = comment\n",
    "                break\n",
    "        if featured_comment:\n",
    "            issues_batch.append(Issue(issue[\"title\"], issue[\"body\"], issue[\"url\"], featured_comment[\"body\"]))\n"
   ]
  },
  {
   "cell_type": "code",
   "execution_count": null,
   "metadata": {},
   "outputs": [],
   "source": [
    "# search for poststs in stackoverflow\n",
    "# get featured answer by properties : [\"is_accepted\", \"score\"]\n",
    "# create list of issues objects\n",
    "# save all to parquet\n",
    "# vecotrize posts with is_answered: true and save to vector database"
   ]
  }
 ],
 "metadata": {
  "kernelspec": {
   "display_name": "Python 3",
   "language": "python",
   "name": "python3"
  },
  "language_info": {
   "codemirror_mode": {
    "name": "ipython",
    "version": 3
   },
   "file_extension": ".py",
   "mimetype": "text/x-python",
   "name": "python",
   "nbconvert_exporter": "python",
   "pygments_lexer": "ipython3",
   "version": "3.9.1"
  }
 },
 "nbformat": 4,
 "nbformat_minor": 2
}
